{
 "cells": [
  {
   "cell_type": "markdown",
   "metadata": {},
   "source": [
    "# M1L5 More EDA with Pandas \n",
    "\n",
    "This notebook will guide you through some essential data manipulation techniques using the Pandas library in Python. We'll be working with the Austin Animal Center Intakes dataset, which contains information about animals entering the Austin Animal Center.\n",
    "\n",
    "### **Dataset:** [Austin Animal Center Intakes](https://catalog.data.gov/dataset/austin-animal-center-intakes) -- This is also in your data folder \n",
    "\n",
    "### **Objectives:**\n",
    "\n",
    " 1.  Load and explore the dataset.\n",
    " 2.  Use `groupby()` to aggregate data.\n",
    " 3.  Create contingency tables using `crosstab()`.\n",
    " 4.  Identify and handle duplicate entries."
   ]
  },
  {
   "cell_type": "markdown",
   "metadata": {},
   "source": [
    "## Step 1:  Import pandas and numpy "
   ]
  },
  {
   "cell_type": "code",
   "execution_count": 5,
   "metadata": {},
   "outputs": [],
   "source": [
    "#Import packages \n",
    "\n",
    "import pandas as pd\n",
    "import numpy as np"
   ]
  },
  {
   "cell_type": "markdown",
   "metadata": {},
   "source": [
    "## Step 2:  Load in the data and save it as `df`"
   ]
  },
  {
   "cell_type": "code",
   "execution_count": 6,
   "metadata": {},
   "outputs": [],
   "source": [
    "df = pd.read_csv(\"Austin_Animal_Center_Intakes__10_01_2013_to_05_05_2025_.csv\")"
   ]
  },
  {
   "cell_type": "markdown",
   "metadata": {},
   "source": [
    "## Step 3:  Look at the data (can you think of some methods to do this)"
   ]
  },
  {
   "cell_type": "code",
   "execution_count": 15,
   "metadata": {},
   "outputs": [
    {
     "data": {
      "text/html": [
       "<div>\n",
       "<style scoped>\n",
       "    .dataframe tbody tr th:only-of-type {\n",
       "        vertical-align: middle;\n",
       "    }\n",
       "\n",
       "    .dataframe tbody tr th {\n",
       "        vertical-align: top;\n",
       "    }\n",
       "\n",
       "    .dataframe thead th {\n",
       "        text-align: right;\n",
       "    }\n",
       "</style>\n",
       "<table border=\"1\" class=\"dataframe\">\n",
       "  <thead>\n",
       "    <tr style=\"text-align: right;\">\n",
       "      <th></th>\n",
       "      <th>Animal ID</th>\n",
       "      <th>Name</th>\n",
       "      <th>DateTime</th>\n",
       "      <th>MonthYear</th>\n",
       "      <th>Found Location</th>\n",
       "      <th>Intake Type</th>\n",
       "      <th>Intake Condition</th>\n",
       "      <th>Animal Type</th>\n",
       "      <th>Sex upon Intake</th>\n",
       "      <th>Age upon Intake</th>\n",
       "      <th>Breed</th>\n",
       "      <th>Color</th>\n",
       "    </tr>\n",
       "  </thead>\n",
       "  <tbody>\n",
       "    <tr>\n",
       "      <th>0</th>\n",
       "      <td>A521520</td>\n",
       "      <td>Nina</td>\n",
       "      <td>10/01/2013 07:51:00 AM</td>\n",
       "      <td>October 2013</td>\n",
       "      <td>Norht Ec in Austin (TX)</td>\n",
       "      <td>Stray</td>\n",
       "      <td>Normal</td>\n",
       "      <td>Dog</td>\n",
       "      <td>Spayed Female</td>\n",
       "      <td>7 years</td>\n",
       "      <td>Border Terrier/Border Collie</td>\n",
       "      <td>White/Tan</td>\n",
       "    </tr>\n",
       "    <tr>\n",
       "      <th>1</th>\n",
       "      <td>A664235</td>\n",
       "      <td>NaN</td>\n",
       "      <td>10/01/2013 08:33:00 AM</td>\n",
       "      <td>October 2013</td>\n",
       "      <td>Abia in Austin (TX)</td>\n",
       "      <td>Stray</td>\n",
       "      <td>Normal</td>\n",
       "      <td>Cat</td>\n",
       "      <td>Unknown</td>\n",
       "      <td>1 week</td>\n",
       "      <td>Domestic Shorthair Mix</td>\n",
       "      <td>Orange/White</td>\n",
       "    </tr>\n",
       "    <tr>\n",
       "      <th>2</th>\n",
       "      <td>A664236</td>\n",
       "      <td>NaN</td>\n",
       "      <td>10/01/2013 08:33:00 AM</td>\n",
       "      <td>October 2013</td>\n",
       "      <td>Abia in Austin (TX)</td>\n",
       "      <td>Stray</td>\n",
       "      <td>Normal</td>\n",
       "      <td>Cat</td>\n",
       "      <td>Unknown</td>\n",
       "      <td>1 week</td>\n",
       "      <td>Domestic Shorthair Mix</td>\n",
       "      <td>Orange/White</td>\n",
       "    </tr>\n",
       "    <tr>\n",
       "      <th>3</th>\n",
       "      <td>A664237</td>\n",
       "      <td>NaN</td>\n",
       "      <td>10/01/2013 08:33:00 AM</td>\n",
       "      <td>October 2013</td>\n",
       "      <td>Abia in Austin (TX)</td>\n",
       "      <td>Stray</td>\n",
       "      <td>Normal</td>\n",
       "      <td>Cat</td>\n",
       "      <td>Unknown</td>\n",
       "      <td>1 week</td>\n",
       "      <td>Domestic Shorthair Mix</td>\n",
       "      <td>Orange/White</td>\n",
       "    </tr>\n",
       "    <tr>\n",
       "      <th>4</th>\n",
       "      <td>A664233</td>\n",
       "      <td>Stevie</td>\n",
       "      <td>10/01/2013 08:53:00 AM</td>\n",
       "      <td>October 2013</td>\n",
       "      <td>7405 Springtime in Austin (TX)</td>\n",
       "      <td>Stray</td>\n",
       "      <td>Injured</td>\n",
       "      <td>Dog</td>\n",
       "      <td>Intact Female</td>\n",
       "      <td>3 years</td>\n",
       "      <td>Pit Bull Mix</td>\n",
       "      <td>Blue/White</td>\n",
       "    </tr>\n",
       "    <tr>\n",
       "      <th>...</th>\n",
       "      <td>...</td>\n",
       "      <td>...</td>\n",
       "      <td>...</td>\n",
       "      <td>...</td>\n",
       "      <td>...</td>\n",
       "      <td>...</td>\n",
       "      <td>...</td>\n",
       "      <td>...</td>\n",
       "      <td>...</td>\n",
       "      <td>...</td>\n",
       "      <td>...</td>\n",
       "      <td>...</td>\n",
       "    </tr>\n",
       "    <tr>\n",
       "      <th>173807</th>\n",
       "      <td>A929690</td>\n",
       "      <td>NaN</td>\n",
       "      <td>05/03/2025 11:18:00 PM</td>\n",
       "      <td>May 2025</td>\n",
       "      <td>8038 Exchange Dr in Austin (TX)</td>\n",
       "      <td>Stray</td>\n",
       "      <td>Injured</td>\n",
       "      <td>Dog</td>\n",
       "      <td>Intact Male</td>\n",
       "      <td>2 years</td>\n",
       "      <td>Belgian Malinois</td>\n",
       "      <td>Brown/Black</td>\n",
       "    </tr>\n",
       "    <tr>\n",
       "      <th>173808</th>\n",
       "      <td>A929717</td>\n",
       "      <td>NaN</td>\n",
       "      <td>05/04/2025 03:14:00 PM</td>\n",
       "      <td>May 2025</td>\n",
       "      <td>Austin (TX)</td>\n",
       "      <td>Public Assist</td>\n",
       "      <td>Normal</td>\n",
       "      <td>Dog</td>\n",
       "      <td>Intact Male</td>\n",
       "      <td>1 year</td>\n",
       "      <td>Shih Tzu Mix</td>\n",
       "      <td>White/Blue</td>\n",
       "    </tr>\n",
       "    <tr>\n",
       "      <th>173809</th>\n",
       "      <td>A929724</td>\n",
       "      <td>NaN</td>\n",
       "      <td>05/04/2025 07:43:00 PM</td>\n",
       "      <td>May 2025</td>\n",
       "      <td>7105 Providence Ave Apt 3 in Austin (TX)</td>\n",
       "      <td>Stray</td>\n",
       "      <td>Normal</td>\n",
       "      <td>Other</td>\n",
       "      <td>Unknown</td>\n",
       "      <td>1 year</td>\n",
       "      <td>Rabbit Sh</td>\n",
       "      <td>Tan/White</td>\n",
       "    </tr>\n",
       "    <tr>\n",
       "      <th>173810</th>\n",
       "      <td>A929725</td>\n",
       "      <td>Oswold</td>\n",
       "      <td>05/04/2025 10:55:00 PM</td>\n",
       "      <td>May 2025</td>\n",
       "      <td>1501  Red River St in Austin (TX)</td>\n",
       "      <td>Public Assist</td>\n",
       "      <td>Normal</td>\n",
       "      <td>Dog</td>\n",
       "      <td>Intact Male</td>\n",
       "      <td>10 years</td>\n",
       "      <td>Boxer Mix</td>\n",
       "      <td>Tan/White</td>\n",
       "    </tr>\n",
       "    <tr>\n",
       "      <th>173811</th>\n",
       "      <td>A929635</td>\n",
       "      <td>NaN</td>\n",
       "      <td>05/04/2025 11:44:00 PM</td>\n",
       "      <td>May 2025</td>\n",
       "      <td>708 Simonetti in Austin (TX)</td>\n",
       "      <td>Stray</td>\n",
       "      <td>Normal</td>\n",
       "      <td>Cat</td>\n",
       "      <td>Spayed Female</td>\n",
       "      <td>2 years</td>\n",
       "      <td>Domestic Shorthair</td>\n",
       "      <td>Black/White</td>\n",
       "    </tr>\n",
       "  </tbody>\n",
       "</table>\n",
       "<p>173812 rows × 12 columns</p>\n",
       "</div>"
      ],
      "text/plain": [
       "       Animal ID    Name                DateTime     MonthYear  \\\n",
       "0        A521520    Nina  10/01/2013 07:51:00 AM  October 2013   \n",
       "1        A664235     NaN  10/01/2013 08:33:00 AM  October 2013   \n",
       "2        A664236     NaN  10/01/2013 08:33:00 AM  October 2013   \n",
       "3        A664237     NaN  10/01/2013 08:33:00 AM  October 2013   \n",
       "4        A664233  Stevie  10/01/2013 08:53:00 AM  October 2013   \n",
       "...          ...     ...                     ...           ...   \n",
       "173807   A929690     NaN  05/03/2025 11:18:00 PM      May 2025   \n",
       "173808   A929717     NaN  05/04/2025 03:14:00 PM      May 2025   \n",
       "173809   A929724     NaN  05/04/2025 07:43:00 PM      May 2025   \n",
       "173810   A929725  Oswold  05/04/2025 10:55:00 PM      May 2025   \n",
       "173811   A929635     NaN  05/04/2025 11:44:00 PM      May 2025   \n",
       "\n",
       "                                  Found Location    Intake Type  \\\n",
       "0                        Norht Ec in Austin (TX)          Stray   \n",
       "1                            Abia in Austin (TX)          Stray   \n",
       "2                            Abia in Austin (TX)          Stray   \n",
       "3                            Abia in Austin (TX)          Stray   \n",
       "4                 7405 Springtime in Austin (TX)          Stray   \n",
       "...                                          ...            ...   \n",
       "173807           8038 Exchange Dr in Austin (TX)          Stray   \n",
       "173808                               Austin (TX)  Public Assist   \n",
       "173809  7105 Providence Ave Apt 3 in Austin (TX)          Stray   \n",
       "173810         1501  Red River St in Austin (TX)  Public Assist   \n",
       "173811              708 Simonetti in Austin (TX)          Stray   \n",
       "\n",
       "       Intake Condition Animal Type Sex upon Intake Age upon Intake  \\\n",
       "0                Normal         Dog   Spayed Female         7 years   \n",
       "1                Normal         Cat         Unknown          1 week   \n",
       "2                Normal         Cat         Unknown          1 week   \n",
       "3                Normal         Cat         Unknown          1 week   \n",
       "4               Injured         Dog   Intact Female         3 years   \n",
       "...                 ...         ...             ...             ...   \n",
       "173807          Injured         Dog     Intact Male         2 years   \n",
       "173808           Normal         Dog     Intact Male          1 year   \n",
       "173809           Normal       Other         Unknown          1 year   \n",
       "173810           Normal         Dog     Intact Male        10 years   \n",
       "173811           Normal         Cat   Spayed Female         2 years   \n",
       "\n",
       "                               Breed         Color  \n",
       "0       Border Terrier/Border Collie     White/Tan  \n",
       "1             Domestic Shorthair Mix  Orange/White  \n",
       "2             Domestic Shorthair Mix  Orange/White  \n",
       "3             Domestic Shorthair Mix  Orange/White  \n",
       "4                       Pit Bull Mix    Blue/White  \n",
       "...                              ...           ...  \n",
       "173807              Belgian Malinois   Brown/Black  \n",
       "173808                  Shih Tzu Mix    White/Blue  \n",
       "173809                     Rabbit Sh     Tan/White  \n",
       "173810                     Boxer Mix     Tan/White  \n",
       "173811            Domestic Shorthair   Black/White  \n",
       "\n",
       "[173812 rows x 12 columns]"
      ]
     },
     "execution_count": 15,
     "metadata": {},
     "output_type": "execute_result"
    }
   ],
   "source": [
    "df"
   ]
  },
  {
   "cell_type": "markdown",
   "metadata": {},
   "source": [
    "## Step 4:  Count up how many missing values exist in each column (you would need to chain two methods here -- one to check for missing values and the other to sum missing values up)"
   ]
  },
  {
   "cell_type": "code",
   "execution_count": 19,
   "metadata": {},
   "outputs": [
    {
     "data": {
      "text/plain": [
       "Animal ID               0\n",
       "Name                49991\n",
       "DateTime                0\n",
       "MonthYear               0\n",
       "Found Location          0\n",
       "Intake Type             0\n",
       "Intake Condition        0\n",
       "Animal Type             0\n",
       "Sex upon Intake         1\n",
       "Age upon Intake         0\n",
       "Breed                   0\n",
       "Color                   0\n",
       "dtype: int64"
      ]
     },
     "execution_count": 19,
     "metadata": {},
     "output_type": "execute_result"
    }
   ],
   "source": [
    "missing_values = df.isna().sum()\n",
    "missing_values"
   ]
  },
  {
   "cell_type": "markdown",
   "metadata": {},
   "source": [
    "## Step 5:  Count up the amount of animals by Animal Type "
   ]
  },
  {
   "cell_type": "code",
   "execution_count": 24,
   "metadata": {},
   "outputs": [
    {
     "name": "stdout",
     "output_type": "stream",
     "text": [
      "Animal Type\n",
      "Bird           878\n",
      "Cat          69324\n",
      "Dog          94608\n",
      "Livestock       34\n",
      "Other         8968\n",
      "Name: Animal ID, dtype: int64\n"
     ]
    }
   ],
   "source": [
    "animal_counts = df.groupby(\"Animal Type\")['Animal ID'].count()\n",
    "print(animal_counts)\n"
   ]
  },
  {
   "cell_type": "markdown",
   "metadata": {},
   "source": [
    "## Step 6:  Create a crosstab showing the count of animal types for each intake condition."
   ]
  },
  {
   "cell_type": "code",
   "execution_count": 27,
   "metadata": {},
   "outputs": [
    {
     "data": {
      "text/html": [
       "<div>\n",
       "<style scoped>\n",
       "    .dataframe tbody tr th:only-of-type {\n",
       "        vertical-align: middle;\n",
       "    }\n",
       "\n",
       "    .dataframe tbody tr th {\n",
       "        vertical-align: top;\n",
       "    }\n",
       "\n",
       "    .dataframe thead th {\n",
       "        text-align: right;\n",
       "    }\n",
       "</style>\n",
       "<table border=\"1\" class=\"dataframe\">\n",
       "  <thead>\n",
       "    <tr style=\"text-align: right;\">\n",
       "      <th>Intake Type</th>\n",
       "      <th>Abandoned</th>\n",
       "      <th>Euthanasia Request</th>\n",
       "      <th>Owner Surrender</th>\n",
       "      <th>Public Assist</th>\n",
       "      <th>Stray</th>\n",
       "      <th>Wildlife</th>\n",
       "    </tr>\n",
       "    <tr>\n",
       "      <th>Animal Type</th>\n",
       "      <th></th>\n",
       "      <th></th>\n",
       "      <th></th>\n",
       "      <th></th>\n",
       "      <th></th>\n",
       "      <th></th>\n",
       "    </tr>\n",
       "  </thead>\n",
       "  <tbody>\n",
       "    <tr>\n",
       "      <th>Bird</th>\n",
       "      <td>0</td>\n",
       "      <td>3</td>\n",
       "      <td>103</td>\n",
       "      <td>211</td>\n",
       "      <td>408</td>\n",
       "      <td>153</td>\n",
       "    </tr>\n",
       "    <tr>\n",
       "      <th>Cat</th>\n",
       "      <td>748</td>\n",
       "      <td>60</td>\n",
       "      <td>13450</td>\n",
       "      <td>1451</td>\n",
       "      <td>53615</td>\n",
       "      <td>0</td>\n",
       "    </tr>\n",
       "    <tr>\n",
       "      <th>Dog</th>\n",
       "      <td>1115</td>\n",
       "      <td>183</td>\n",
       "      <td>21025</td>\n",
       "      <td>8415</td>\n",
       "      <td>63869</td>\n",
       "      <td>1</td>\n",
       "    </tr>\n",
       "    <tr>\n",
       "      <th>Livestock</th>\n",
       "      <td>1</td>\n",
       "      <td>0</td>\n",
       "      <td>1</td>\n",
       "      <td>1</td>\n",
       "      <td>30</td>\n",
       "      <td>1</td>\n",
       "    </tr>\n",
       "    <tr>\n",
       "      <th>Other</th>\n",
       "      <td>46</td>\n",
       "      <td>18</td>\n",
       "      <td>984</td>\n",
       "      <td>354</td>\n",
       "      <td>1238</td>\n",
       "      <td>6328</td>\n",
       "    </tr>\n",
       "  </tbody>\n",
       "</table>\n",
       "</div>"
      ],
      "text/plain": [
       "Intake Type  Abandoned  Euthanasia Request  Owner Surrender  Public Assist  \\\n",
       "Animal Type                                                                  \n",
       "Bird                 0                   3              103            211   \n",
       "Cat                748                  60            13450           1451   \n",
       "Dog               1115                 183            21025           8415   \n",
       "Livestock            1                   0                1              1   \n",
       "Other               46                  18              984            354   \n",
       "\n",
       "Intake Type  Stray  Wildlife  \n",
       "Animal Type                   \n",
       "Bird           408       153  \n",
       "Cat          53615         0  \n",
       "Dog          63869         1  \n",
       "Livestock       30         1  \n",
       "Other         1238      6328  "
      ]
     },
     "execution_count": 27,
     "metadata": {},
     "output_type": "execute_result"
    }
   ],
   "source": [
    "cross_table = pd.crosstab(df['Animal Type'],df['Intake Type'])\n",
    "cross_table"
   ]
  },
  {
   "cell_type": "markdown",
   "metadata": {},
   "source": [
    "## Step 7:  Check for duplicate Animal IDs (pay close attention to the syntax here)"
   ]
  },
  {
   "cell_type": "code",
   "execution_count": 29,
   "metadata": {},
   "outputs": [
    {
     "name": "stdout",
     "output_type": "stream",
     "text": [
      "17525\n"
     ]
    }
   ],
   "source": [
    "duplicate_ids = df['Animal ID'].duplicated().sum()\n",
    "print(duplicate_ids)"
   ]
  },
  {
   "cell_type": "markdown",
   "metadata": {},
   "source": [
    "## Practice Joining Data "
   ]
  },
  {
   "cell_type": "markdown",
   "metadata": {},
   "source": [
    "### Scenario 1\n",
    "You have customer data split into two different files (DataFrames),\n",
    "and you want to combine them into a single DataFrame for analysis."
   ]
  },
  {
   "cell_type": "code",
   "execution_count": 31,
   "metadata": {},
   "outputs": [],
   "source": [
    "# Run the cell without changes to create the two dataframes \n",
    "\n",
    "customers_part1_df = pd.DataFrame({'CustomerID': [101, 102, 103],\n",
    "                                   'FirstName': ['Alice', 'Bob', 'Charlie'],\n",
    "                                   'City': ['Anytown', 'Otherville', 'Smallburg']})\n",
    "\n",
    "customers_part2_df = pd.DataFrame({'CustomerID': [104, 105, 106],\n",
    "                                   'FirstName': ['David', 'Emily', 'Frank'],\n",
    "                                   'City': ['Bigcity', 'Townsville', 'Villageton']})"
   ]
  },
  {
   "cell_type": "markdown",
   "metadata": {},
   "source": [
    "### Scenario 1 Task:  Use `pd.concat()` to stack the two dataframes above (afterall they have the same columns)"
   ]
  },
  {
   "cell_type": "code",
   "execution_count": 33,
   "metadata": {},
   "outputs": [
    {
     "data": {
      "text/html": [
       "<div>\n",
       "<style scoped>\n",
       "    .dataframe tbody tr th:only-of-type {\n",
       "        vertical-align: middle;\n",
       "    }\n",
       "\n",
       "    .dataframe tbody tr th {\n",
       "        vertical-align: top;\n",
       "    }\n",
       "\n",
       "    .dataframe thead th {\n",
       "        text-align: right;\n",
       "    }\n",
       "</style>\n",
       "<table border=\"1\" class=\"dataframe\">\n",
       "  <thead>\n",
       "    <tr style=\"text-align: right;\">\n",
       "      <th></th>\n",
       "      <th>CustomerID</th>\n",
       "      <th>FirstName</th>\n",
       "      <th>City</th>\n",
       "    </tr>\n",
       "  </thead>\n",
       "  <tbody>\n",
       "    <tr>\n",
       "      <th>0</th>\n",
       "      <td>101</td>\n",
       "      <td>Alice</td>\n",
       "      <td>Anytown</td>\n",
       "    </tr>\n",
       "    <tr>\n",
       "      <th>1</th>\n",
       "      <td>102</td>\n",
       "      <td>Bob</td>\n",
       "      <td>Otherville</td>\n",
       "    </tr>\n",
       "    <tr>\n",
       "      <th>2</th>\n",
       "      <td>103</td>\n",
       "      <td>Charlie</td>\n",
       "      <td>Smallburg</td>\n",
       "    </tr>\n",
       "    <tr>\n",
       "      <th>3</th>\n",
       "      <td>104</td>\n",
       "      <td>David</td>\n",
       "      <td>Bigcity</td>\n",
       "    </tr>\n",
       "    <tr>\n",
       "      <th>4</th>\n",
       "      <td>105</td>\n",
       "      <td>Emily</td>\n",
       "      <td>Townsville</td>\n",
       "    </tr>\n",
       "    <tr>\n",
       "      <th>5</th>\n",
       "      <td>106</td>\n",
       "      <td>Frank</td>\n",
       "      <td>Villageton</td>\n",
       "    </tr>\n",
       "  </tbody>\n",
       "</table>\n",
       "</div>"
      ],
      "text/plain": [
       "   CustomerID FirstName        City\n",
       "0         101     Alice     Anytown\n",
       "1         102       Bob  Otherville\n",
       "2         103   Charlie   Smallburg\n",
       "3         104     David     Bigcity\n",
       "4         105     Emily  Townsville\n",
       "5         106     Frank  Villageton"
      ]
     },
     "execution_count": 33,
     "metadata": {},
     "output_type": "execute_result"
    }
   ],
   "source": [
    "all_customers_df = pd.concat([customers_part1_df,customers_part2_df], ignore_index=1)\n",
    "all_customers_df"
   ]
  },
  {
   "cell_type": "markdown",
   "metadata": {},
   "source": [
    "### Scenario 2"
   ]
  },
  {
   "cell_type": "markdown",
   "metadata": {},
   "source": [
    "Combining customer details and loyalty points."
   ]
  },
  {
   "cell_type": "code",
   "execution_count": 34,
   "metadata": {},
   "outputs": [],
   "source": [
    "# Run the cell without changes to create the two dataframes \n",
    "\n",
    "customer_details_df = pd.DataFrame({'CustomerID': [101, 102, 103],\n",
    "                                    'Name': ['Alice', 'Bob', 'Charlie'],\n",
    "                                    'City': ['Anytown', 'Otherville', 'Smallburg']})\n",
    "\n",
    "loyalty_points_df = pd.DataFrame({'CustomerID': [101, 102, 103],\n",
    "                                  'Points': [100, 250, 50]})"
   ]
  },
  {
   "cell_type": "markdown",
   "metadata": {},
   "source": [
    "### Scenario 2 Task :  Merge the DataFrames on CustomerID\n"
   ]
  },
  {
   "cell_type": "code",
   "execution_count": 36,
   "metadata": {},
   "outputs": [
    {
     "data": {
      "text/html": [
       "<div>\n",
       "<style scoped>\n",
       "    .dataframe tbody tr th:only-of-type {\n",
       "        vertical-align: middle;\n",
       "    }\n",
       "\n",
       "    .dataframe tbody tr th {\n",
       "        vertical-align: top;\n",
       "    }\n",
       "\n",
       "    .dataframe thead th {\n",
       "        text-align: right;\n",
       "    }\n",
       "</style>\n",
       "<table border=\"1\" class=\"dataframe\">\n",
       "  <thead>\n",
       "    <tr style=\"text-align: right;\">\n",
       "      <th></th>\n",
       "      <th>CustomerID</th>\n",
       "      <th>Name</th>\n",
       "      <th>City</th>\n",
       "      <th>Points</th>\n",
       "    </tr>\n",
       "  </thead>\n",
       "  <tbody>\n",
       "    <tr>\n",
       "      <th>0</th>\n",
       "      <td>101</td>\n",
       "      <td>Alice</td>\n",
       "      <td>Anytown</td>\n",
       "      <td>100</td>\n",
       "    </tr>\n",
       "    <tr>\n",
       "      <th>1</th>\n",
       "      <td>102</td>\n",
       "      <td>Bob</td>\n",
       "      <td>Otherville</td>\n",
       "      <td>250</td>\n",
       "    </tr>\n",
       "    <tr>\n",
       "      <th>2</th>\n",
       "      <td>103</td>\n",
       "      <td>Charlie</td>\n",
       "      <td>Smallburg</td>\n",
       "      <td>50</td>\n",
       "    </tr>\n",
       "  </tbody>\n",
       "</table>\n",
       "</div>"
      ],
      "text/plain": [
       "   CustomerID     Name        City  Points\n",
       "0         101    Alice     Anytown     100\n",
       "1         102      Bob  Otherville     250\n",
       "2         103  Charlie   Smallburg      50"
      ]
     },
     "execution_count": 36,
     "metadata": {},
     "output_type": "execute_result"
    }
   ],
   "source": [
    "merged_customer_df = pd.merge(customer_details_df, loyalty_points_df, on='CustomerID', how='inner')\n",
    "merged_customer_df"
   ]
  }
 ],
 "metadata": {
  "kernelspec": {
   "display_name": "data-analysis-env",
   "language": "python",
   "name": "python3"
  },
  "language_info": {
   "codemirror_mode": {
    "name": "ipython",
    "version": 3
   },
   "file_extension": ".py",
   "mimetype": "text/x-python",
   "name": "python",
   "nbconvert_exporter": "python",
   "pygments_lexer": "ipython3",
   "version": "3.9.22"
  }
 },
 "nbformat": 4,
 "nbformat_minor": 2
}
